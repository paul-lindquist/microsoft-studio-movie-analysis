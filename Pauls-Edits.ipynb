{
 "cells": [
  {
   "cell_type": "markdown",
   "metadata": {},
   "source": [
    "![example](images/director_shot.jpeg)"
   ]
  },
  {
   "cell_type": "markdown",
   "metadata": {},
   "source": [
    "# Project Title\n",
    "\n",
    "**Authors:** Student 1, Student 2, Student 3\n",
    "***"
   ]
  },
  {
   "cell_type": "markdown",
   "metadata": {},
   "source": [
    "## Overview\n",
    "\n",
    "A one-paragraph overview of the project, including the business problem, data, methods, results and recommendations."
   ]
  },
  {
   "cell_type": "markdown",
   "metadata": {},
   "source": [
    "## Business Problem\n",
    "\n",
    "Summary of the business problem you are trying to solve, and the data questions that you plan to answer to solve them.\n",
    "\n",
    "***\n",
    "Questions to consider:\n",
    "* What are the business's pain points related to this project?\n",
    "* How did you pick the data analysis question(s) that you did?\n",
    "* Why are these questions important from a business perspective?\n",
    "***"
   ]
  },
  {
   "cell_type": "markdown",
   "metadata": {},
   "source": [
    "## Data Understanding\n",
    "\n",
    "Describe the data being used for this project.\n",
    "***\n",
    "Questions to consider:\n",
    "* Where did the data come from, and how do they relate to the data analysis questions?\n",
    "* What do the data represent? Who is in the sample and what variables are included?\n",
    "* What is the target variable?\n",
    "* What are the properties of the variables you intend to use?\n",
    "***"
   ]
  },
  {
   "cell_type": "code",
   "execution_count": null,
   "metadata": {},
   "outputs": [],
   "source": [
    "# Import standard packages\n",
    "import pandas as pd\n",
    "import numpy as np\n",
    "import matplotlib.pyplot as plt\n",
    "import seaborn as sns\n",
    "\n",
    "%matplotlib inline"
   ]
  },
  {
   "cell_type": "code",
   "execution_count": null,
   "metadata": {},
   "outputs": [],
   "source": [
    "# Open DataFrame highlighting production budget and worldwide gross revenue\n",
    "b_and_p = pd.read_csv('./data/zippedData/tn.movie_budgets.csv.gz')"
   ]
  },
  {
   "cell_type": "code",
   "execution_count": null,
   "metadata": {},
   "outputs": [],
   "source": [
    "# Convert string columns to integers and date-time columns\n",
    "# Strip dollar signs and commas from integers\n",
    "b_and_p['worldwide_gross'] = b_and_p['worldwide_gross'].str.replace(',', \n",
    "                                '').str.replace('$', '').astype(int)\n",
    "b_and_p['production_budget'] = b_and_p['production_budget'].str.replace(',', \n",
    "                                '').str.replace('$', '').astype(int)\n",
    "b_and_p['domestic_gross'] = b_and_p['domestic_gross'].str.replace(',', \n",
    "                                '').str.replace('$', '').astype(int)\n",
    "b_and_p['release_date'] = pd.to_datetime(b_and_p['release_date'])\n",
    "b_and_p.dropna(subset=['production_budget', 'worldwide_gross'])\n",
    "b_and_p.at[5189, 'movie'] = \"God's Not Dead\"\n",
    "b_and_p.at[2996, 'movie'] = \"The King's Speech\""
   ]
  },
  {
   "cell_type": "code",
   "execution_count": null,
   "metadata": {},
   "outputs": [],
   "source": [
    "# Filter by movies that grossed at least $1M worldwide and were made in the last 20 years\n",
    "# Create a gross profit margin column and sort by it\n",
    "b_and_p = b_and_p[b_and_p['worldwide_gross'] >= 1000000]\n",
    "b_and_p = b_and_p[b_and_p['release_date'].dt.year >= 1999]\n",
    "b_and_p['profit_margin_percent'] = (b_and_p['worldwide_gross'] - b_and_p['production_budget']) / b_and_p['worldwide_gross'] * 100\n",
    "b_and_p['gross_margin_percent'] = b_and_p['worldwide_gross'] / b_and_p['production_budget'] * 100\n",
    "b_and_p = b_and_p.sort_values(by=['gross_margin_percent'], ascending=False).reset_index(drop=True)"
   ]
  },
  {
   "cell_type": "code",
   "execution_count": null,
   "metadata": {},
   "outputs": [],
   "source": [
    "# Create a Top 50 list and hardcode genre/sorted genre for each movie\n",
    "pd.options.mode.chained_assignment = None\n",
    "top_50 = b_and_p.iloc[:50]\n",
    "top_50['genre'] = ['Horror', 'Horror', 'Horror', 'Documentary', 'Musical', 'Comedy', 'Thriller',\n",
    "                    'Christian', 'Horror', 'Documentary', 'Horror', 'Comedy', 'Christian',\n",
    "                    'Horror', 'Horror', 'Horror', 'Thriller', 'Christian', 'Documentary', 'Horror',\n",
    "                    'Romance', 'Foreign', 'Drama', 'Horror', 'Horror', 'Foreign', 'Horror',\n",
    "                    'Documentary', 'Horror', 'Documentary', 'Comedy', 'Horror', 'Foreign', 'Horror',\n",
    "                    'Foreign', 'Horror', 'Horror', 'Drama', 'Horror', 'Drama', 'Horror', 'Drama',\n",
    "                    'Drama', 'Horror', 'Horror', 'Horror', 'Documentary', 'Comedy', 'Drama',\n",
    "                    'Horror']\n",
    "\n",
    "top_50['genre_sorted'] = ['Horror', 'Horror', 'Horror', 'Horror', 'Horror', 'Horror', 'Horror',\n",
    "                          'Horror', 'Horror', 'Horror', 'Horror', 'Horror', 'Horror', 'Horror',\n",
    "                          'Horror', 'Horror', 'Horror', 'Horror', 'Horror', 'Horror', 'Horror', 'Horror',\n",
    "                          'Horror', 'Documentary', 'Documentary', 'Documentary', 'Documentary',\n",
    "                          'Documentary', 'Documentary', 'Drama', 'Drama', 'Drama', 'Drama', 'Drama',\n",
    "                          'Drama', 'Foreign', 'Foreign', 'Foreign', 'Foreign', 'Comedy', 'Comedy',\n",
    "                          'Comedy', 'Comedy', 'Christian', 'Christian', 'Christian', 'Thriller',\n",
    "                          'Thriller', 'Musical', 'Romance']"
   ]
  },
  {
   "cell_type": "code",
   "execution_count": null,
   "metadata": {},
   "outputs": [],
   "source": [
    "# Plot histogram highlighting Top 50 movies w/ highest GM by genre\n",
    "genre_hist = sns.histplot(data=top_50, y='genre_sorted', hue=\"genre_sorted\", legend=False)\n",
    "sns.set(rc={'figure.figsize':(12,9)})\n",
    "plt.xlabel('Number of Movies', size=14)\n",
    "plt.ylabel('Genre', size=14)\n",
    "plt.title('Top 50 Movies with Highest Profit Margins\\n(last 20 years, minimum $1M gross revenue)',\n",
    "         size=16, weight=900)\n",
    "plt.savefig('genre_counts1.png');"
   ]
  },
  {
   "cell_type": "code",
   "execution_count": null,
   "metadata": {},
   "outputs": [],
   "source": [
    "# Filter tables by genre, create averages for budget, revenue & ROI\n",
    "\n",
    "genre_data = pd.read_csv('./data/zippedData/imdb.title.basics.csv.gz')\n",
    "gross_genre_merge = b_and_p.merge(genre_data, left_on=['movie'], right_on=['primary_title'])\n",
    "gross_genre_merge['genres'] = gross_genre_merge['genres'].str.replace(',', '')\n",
    "\n",
    "horror_genre = gross_genre_merge[gross_genre_merge['genres'].str.contains(\"orro\")==True]\n",
    "horror_genre = horror_genre.drop_duplicates(subset=['movie'])\n",
    "horror_budg = horror_genre['production_budget'].mean()\n",
    "horror_rev = horror_genre['worldwide_gross'].mean()\n",
    "\n",
    "drama_genre = gross_genre_merge[gross_genre_merge['genres'].str.contains(\"rama\")==True]\n",
    "drama_genre = drama_genre.drop_duplicates(subset=['movie'])\n",
    "drama_budg = drama_genre['production_budget'].mean()\n",
    "drama_rev = drama_genre['worldwide_gross'].mean()\n",
    "\n",
    "comedy_genre = gross_genre_merge[gross_genre_merge['genres'].str.contains(\"omedy\")==True]\n",
    "comedy_genre = comedy_genre.drop_duplicates(subset=['movie'])\n",
    "comedy_budg = comedy_genre['production_budget'].mean()\n",
    "comedy_rev = comedy_genre['worldwide_gross'].mean()\n",
    "\n",
    "action_genre = gross_genre_merge[gross_genre_merge['genres'].str.contains(\"ction\")==True]\n",
    "action_genre = action_genre.drop_duplicates(subset=['movie'])\n",
    "action_budg = action_genre['production_budget'].mean()\n",
    "action_rev = action_genre['worldwide_gross'].mean()\n",
    "\n",
    "horror_roi = ((horror_rev - horror_budg) / horror_budg) * 100\n",
    "drama_roi = ((drama_rev - drama_budg) / drama_budg) * 100\n",
    "comedy_roi = ((comedy_rev - comedy_budg) / comedy_budg) * 100\n",
    "action_roi = ((action_rev - action_budg) / action_budg) * 100"
   ]
  },
  {
   "cell_type": "code",
   "execution_count": null,
   "metadata": {},
   "outputs": [],
   "source": [
    "# Plot bar graph with avg. budget, revenue and ROI by genre\n",
    "\n",
    "from matplotlib.ticker import FuncFormatter\n",
    "\n",
    "labels = ['Horror', 'Drama', 'Comedy', 'Action']\n",
    "prod_budg = [horror_budg, drama_budg, comedy_budg, action_budg]\n",
    "revs = [horror_rev, drama_rev, comedy_rev, action_rev]\n",
    "horror_roi = 'Avg. ROI: 275%'\n",
    "comedy_roi = 'Avg. ROI: 223%'\n",
    "drama_roi = 'Avg. ROI: 176%'\n",
    "action_roi = 'Avg. ROI: 198%'\n",
    "\n",
    "x = np.arange(len(labels))\n",
    "width = 0.35\n",
    "y = np.arange(4)\n",
    "def millions(x, pos):\n",
    "    return '$%1.0fM' % (x*1e-6)\n",
    "formatter = FuncFormatter(millions)\n",
    "\n",
    "cost_rev, ax = plt.subplots()\n",
    "rects1 = ax.bar(x - width/2, prod_budg, width, label='Avg. Production Budget')\n",
    "rects2 = ax.bar(x + width/2, revs, width, label='Avg. Worldwide Gross Revenue')\n",
    "\n",
    "ax.set_xlabel('Genre', size=14)\n",
    "ax.set_title('Average Return on Investment by Genre\\n(last 20 years)', size=16, weight=900)\n",
    "ax.set_xticks(x)\n",
    "ax.set_xticklabels(labels, size=13)\n",
    "ax.legend()\n",
    "plt.rc('legend', fontsize=13)\n",
    "ax.yaxis.set_major_formatter(formatter)\n",
    "plt.yticks(fontsize=13)\n",
    "\n",
    "plt.figtext(0.174, 0.415, horror_roi, fontsize=14, weight=\"bold\")\n",
    "plt.figtext(0.398, 0.377, drama_roi, fontsize=14, weight=\"bold\")\n",
    "plt.figtext(0.622, 0.563, comedy_roi, fontsize=14, weight=\"bold\")\n",
    "plt.figtext(0.846, 0.894, action_roi, fontsize=14, weight=\"bold\")\n",
    "\n",
    "cost_rev.tight_layout();"
   ]
  },
  {
   "cell_type": "code",
   "execution_count": null,
   "metadata": {},
   "outputs": [],
   "source": [
    "# Here you run your code to explore the data"
   ]
  },
  {
   "cell_type": "markdown",
   "metadata": {},
   "source": [
    "## Data Preparation\n",
    "\n",
    "Describe and justify the process for preparing the data for analysis.\n",
    "\n",
    "***\n",
    "Questions to consider:\n",
    "* Were there variables you dropped or created?\n",
    "* How did you address missing values or outliers?\n",
    "* Why are these choices appropriate given the data and the business problem?\n",
    "***"
   ]
  },
  {
   "cell_type": "code",
   "execution_count": null,
   "metadata": {},
   "outputs": [],
   "source": [
    "# Here you run your code to clean the data"
   ]
  },
  {
   "cell_type": "markdown",
   "metadata": {},
   "source": [
    "## Data Modeling\n",
    "Describe and justify the process for analyzing or modeling the data.\n",
    "\n",
    "***\n",
    "Questions to consider:\n",
    "* How did you analyze or model the data?\n",
    "* How did you iterate on your initial approach to make it better?\n",
    "* Why are these choices appropriate given the data and the business problem?\n",
    "***"
   ]
  },
  {
   "cell_type": "code",
   "execution_count": null,
   "metadata": {},
   "outputs": [],
   "source": [
    "# Here you run your code to model the data\n"
   ]
  },
  {
   "cell_type": "markdown",
   "metadata": {},
   "source": [
    "## Evaluation\n",
    "Evaluate how well your work solves the stated business problem.\n",
    "\n",
    "***\n",
    "Questions to consider:\n",
    "* How do you interpret the results?\n",
    "* How well does your model fit your data? How much better is this than your baseline model?\n",
    "* How confident are you that your results would generalize beyond the data you have?\n",
    "* How confident are you that this model would benefit the business if put into use?\n",
    "***"
   ]
  },
  {
   "cell_type": "markdown",
   "metadata": {},
   "source": [
    "## Conclusions\n",
    "Provide your conclusions about the work you've done, including any limitations or next steps.\n",
    "\n",
    "***\n",
    "Questions to consider:\n",
    "* What would you recommend the business do as a result of this work?\n",
    "* What are some reasons why your analysis might not fully solve the business problem?\n",
    "* What else could you do in the future to improve this project?\n",
    "***"
   ]
  }
 ],
 "metadata": {
  "kernelspec": {
   "display_name": "Python 3",
   "language": "python",
   "name": "python3"
  },
  "language_info": {
   "codemirror_mode": {
    "name": "ipython",
    "version": 3
   },
   "file_extension": ".py",
   "mimetype": "text/x-python",
   "name": "python",
   "nbconvert_exporter": "python",
   "pygments_lexer": "ipython3",
   "version": "3.8.5"
  }
 },
 "nbformat": 4,
 "nbformat_minor": 4
}
